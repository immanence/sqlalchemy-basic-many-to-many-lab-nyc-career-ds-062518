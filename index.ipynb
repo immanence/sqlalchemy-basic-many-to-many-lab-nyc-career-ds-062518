{
 "cells": [
  {
   "cell_type": "markdown",
   "metadata": {},
   "source": [
    "# SQLAlchemy Basic Many to Many Association"
   ]
  },
  {
   "cell_type": "markdown",
   "metadata": {},
   "source": [
    "## Objectives\n",
    "\n",
    "1.  Build a basic \"has many through\" relationship, consisting of a join table with only foreign keys, using SQLAlchemy\n",
    "3.  Query from a database containing this relationship"
   ]
  },
  {
   "cell_type": "markdown",
   "metadata": {},
   "source": [
    "## Instructions\n",
    "\n",
    "In the \"One to many\" associations lab, we used SQLAlchemy to establish a \"belongs to\" and \"has many\" relationship between our `Actor` and `Role` classes.  Every instance of the Actor class had many roles, and each instance of the Role class belonged to an Actor.\n",
    "\n",
    "However, this relationship might not accurately represent the equivalent real world relationship.  Although Actors do have many Roles, shouldn't a Role also have many Actors?  For instance, the role of James Bond has been played by Sean Connery, George Lazenby, Roger Moore, Pierce Brosnan, and Daniel Craig.  In this lab, we will build out this \"many to many\" relationship by creating a join table called `actor_roles` containing `actor_id` and `role_id` columns.  The `actor_roles` table will only have these foreign keys, so there's no need for a full SQLAlchemy Association Object."
   ]
  },
  {
   "cell_type": "markdown",
   "metadata": {},
   "source": [
    "> **Note**: After we write all of our models, we need not run our `models.py` file in the terminal for this lab.  The test file does this for us already."
   ]
  },
  {
   "cell_type": "markdown",
   "metadata": {},
   "source": [
    "#### `Actor` and `Role`"
   ]
  },
  {
   "cell_type": "markdown",
   "metadata": {},
   "source": [
    "* Create classes for `Actor` and `Role` in `models.py`\n",
    "    * Every Actor has an id (primary key) and a name\n",
    "    * Every Role has an id (primary key) and a character"
   ]
  },
  {
   "cell_type": "markdown",
   "metadata": {},
   "source": [
    "#### `ActorRole`"
   ]
  },
  {
   "cell_type": "markdown",
   "metadata": {},
   "source": [
    "* Create a class for ActorRole in `models.py` that will serve as the join table\n",
    "* Each ActorRole instance will have an `actor_id` and a `role_id`. Both will use the ForeignKey to establish the relationship like so:\n",
    "    \n",
    ">  ```\n",
    "Column(Integer, ForeignKey('actors.id'), primary_key=True)\n",
    "```"
   ]
  },
  {
   "cell_type": "code",
   "execution_count": 8,
   "metadata": {},
   "outputs": [],
   "source": [
    "from sqlalchemy import *\n",
    "from sqlalchemy.ext.declarative import declarative_base\n",
    "from sqlalchemy.orm import sessionmaker, relationship\n",
    "\n",
    "Base = declarative_base()\n",
    "\n",
    "class Actor(Base):\n",
    "   __tablename__ = 'actors'\n",
    "   id = Column(Integer, primary_key = True)\n",
    "   name = Column(Text)\n",
    "   roles = relationship('Role', secondary = 'actor_roles', back_populates = 'actors')\n",
    "\n",
    "class Role(Base):\n",
    "   __tablename__ = 'roles'\n",
    "   id = Column(Integer, primary_key = True)\n",
    "   character = Column(Text)\n",
    "   actors = relationship('Actor', secondary = 'actor_roles', back_populates = 'roles')\n",
    "\n",
    "class ActorRole(Base):\n",
    "   __tablename__ = 'actor_roles'\n",
    "   id = Column(Integer, primary_key = True)\n",
    "   actor_id = Column(Integer, ForeignKey('actors.id'))\n",
    "   role_id = Column(Integer, ForeignKey('roles.id'))\n",
    "\n",
    "# Write your classes below\n",
    "\n",
    "\n",
    "\n",
    "\n",
    "engine = create_engine('sqlite:///:memory:')\n",
    "Base.metadata.create_all(engine)"
   ]
  },
  {
   "cell_type": "markdown",
   "metadata": {},
   "source": [
    "#### Update `Actor` and `Role` models"
   ]
  },
  {
   "cell_type": "code",
   "execution_count": 10,
   "metadata": {},
   "outputs": [
    {
     "ename": "ImportError",
     "evalue": "cannot import name 'Actor'",
     "output_type": "error",
     "traceback": [
      "\u001b[0;31m\u001b[0m",
      "\u001b[0;31mImportError\u001b[0mTraceback (most recent call last)",
      "\u001b[0;32m<ipython-input-10-5a7a74c20567>\u001b[0m in \u001b[0;36m<module>\u001b[0;34m()\u001b[0m\n\u001b[1;32m      2\u001b[0m \u001b[0;32mfrom\u001b[0m \u001b[0msqlalchemy\u001b[0m \u001b[0;32mimport\u001b[0m \u001b[0mcreate_engine\u001b[0m\u001b[0;34m\u001b[0m\u001b[0m\n\u001b[1;32m      3\u001b[0m \u001b[0;32mfrom\u001b[0m \u001b[0msqlalchemy\u001b[0m\u001b[0;34m.\u001b[0m\u001b[0mext\u001b[0m\u001b[0;34m.\u001b[0m\u001b[0mdeclarative\u001b[0m \u001b[0;32mimport\u001b[0m \u001b[0mdeclarative_base\u001b[0m\u001b[0;34m\u001b[0m\u001b[0m\n\u001b[0;32m----> 4\u001b[0;31m \u001b[0;32mfrom\u001b[0m \u001b[0mmodels\u001b[0m \u001b[0;32mimport\u001b[0m \u001b[0mActor\u001b[0m\u001b[0;34m,\u001b[0m \u001b[0mRole\u001b[0m\u001b[0;34m,\u001b[0m \u001b[0mActorRole\u001b[0m\u001b[0;34m,\u001b[0m \u001b[0mengine\u001b[0m\u001b[0;34m\u001b[0m\u001b[0m\n\u001b[0m\u001b[1;32m      5\u001b[0m \u001b[0;34m\u001b[0m\u001b[0m\n\u001b[1;32m      6\u001b[0m \u001b[0mBase\u001b[0m \u001b[0;34m=\u001b[0m \u001b[0mdeclarative_base\u001b[0m\u001b[0;34m(\u001b[0m\u001b[0;34m)\u001b[0m\u001b[0;34m\u001b[0m\u001b[0m\n",
      "\u001b[0;31mImportError\u001b[0m: cannot import name 'Actor'"
     ]
    }
   ],
   "source": [
    "from sqlalchemy.orm import sessionmaker\n",
    "from sqlalchemy import create_engine\n",
    "from sqlalchemy.ext.declarative import declarative_base\n",
    "from models import Actor, Role, ActorRole, engine\n",
    "\n",
    "Base = declarative_base()\n",
    "\n",
    "session = sessionmaker()\n",
    "session.configure(bind=engine)\n",
    "Base.metadata.bind = engine\n",
    "\n",
    "session = session()\n",
    "\n",
    "bale = Actor(name=\"Christian Bale\")\n",
    "hathaway = Actor(name=\"Anne Hathaway\")\n",
    "pfeiffer = Actor(name=\"Michelle Pfeiffer\")\n",
    "keaton = Actor(name=\"Michael Keaton\")\n",
    "arnett = Actor(name=\"Will Arnett\")\n",
    "\n",
    "batman = Role(character=\"Batman\")\n",
    "catwoman = Role(character=\"Catwoman\")\n",
    "burry = Role(character=\"Dr. Michael Burry\")\n",
    "american_psycho = Role(character=\"Patrick Bateman\")\n",
    "\n",
    "batman.actors.append(bale)\n",
    "batman.actors.append(keaton)\n",
    "batman.actors.append(arnett)\n",
    "catwoman.actors.append(pfeiffer)\n",
    "catwoman.actors.append(hathaway)\n",
    "\n",
    "bale.roles.append(burry)\n",
    "bale.roles.append(american_psycho)\n",
    "\n",
    "session.add_all([bale, hathaway, pfeiffer, keaton, arnett])\n",
    "session.add_all([batman, catwoman])\n",
    "session.commit()\n"
   ]
  },
  {
   "cell_type": "markdown",
   "metadata": {},
   "source": [
    "* Establish the association between the two models with the `relationship()` function\n",
    "    - Actor: `roles = relationship('Role', secondary='actor_roles')`\n",
    "    \n",
    "    - Role: `actors = relationship('Actor', secondary='actor_roles')`"
   ]
  },
  {
   "cell_type": "markdown",
   "metadata": {},
   "source": [
    "> **Note**: Run `python -i models.py` in the terminal to test our models and make sure that the relationships are set up properly. We can test our code by creating a few actors and roles and associating them together."
   ]
  },
  {
   "cell_type": "markdown",
   "metadata": {},
   "source": [
    "#### Query from the relationship"
   ]
  },
  {
   "cell_type": "markdown",
   "metadata": {},
   "source": [
    "Write the following queries in `query.py` to satisfy the tests.\n",
    "\n",
    "* `return_christian_bales_roles` should return the list of Christian Bale's role instances\n",
    "\n",
    "* `return_catwoman_actors` should return the list of actors that have played Catwoman\n",
    "\n",
    "* `return_number_of_batman_actors` should return the number of actors in the database who have played Batman"
   ]
  }
 ],
 "metadata": {
  "kernelspec": {
   "display_name": "Python 3",
   "language": "python",
   "name": "python3"
  },
  "language_info": {
   "codemirror_mode": {
    "name": "ipython",
    "version": 3
   },
   "file_extension": ".py",
   "mimetype": "text/x-python",
   "name": "python",
   "nbconvert_exporter": "python",
   "pygments_lexer": "ipython3",
   "version": "3.6.4"
  }
 },
 "nbformat": 4,
 "nbformat_minor": 2
}
